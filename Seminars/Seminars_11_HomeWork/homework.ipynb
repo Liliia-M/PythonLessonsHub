{
 "cells": [
  {
   "cell_type": "markdown",
   "id": "92913f96",
   "metadata": {},
   "source": [
    "Домашнее задание\n",
    "f(x) = -12x^4 - 18x^3+5x^2 + 10x\n",
    "\n",
    "Определить корни\n",
    "\n",
    "Найти интервалы, на которых функция возрастает\n",
    "\n",
    "Найти интервалы, на которых функция убывает\n",
    "\n",
    "Построить график\n",
    "\n",
    "Вычислить вершину\n",
    "\n",
    "Определить промежутки, на котором f > 0\n",
    "\n",
    "Определить промежутки, на котором f < 0"
   ]
  },
  {
   "cell_type": "code",
   "execution_count": 1,
   "id": "cb00fa02",
   "metadata": {},
   "outputs": [
    {
     "data": {
      "text/latex": [
       "$\\displaystyle \\left\\{0, - \\frac{1}{2} + \\frac{1}{9 \\sqrt[3]{\\frac{\\sqrt{28985}}{432} + \\frac{19}{48}}} + \\sqrt[3]{\\frac{\\sqrt{28985}}{432} + \\frac{19}{48}}, - \\frac{1}{2} - \\frac{\\sqrt[3]{\\frac{\\sqrt{28985}}{432} + \\frac{19}{48}}}{2} - \\frac{1}{18 \\sqrt[3]{\\frac{\\sqrt{28985}}{432} + \\frac{19}{48}}} + i \\left(- \\frac{\\sqrt{3}}{18 \\sqrt[3]{\\frac{\\sqrt{28985}}{432} + \\frac{19}{48}}} + \\frac{\\sqrt{3} \\sqrt[3]{\\frac{\\sqrt{28985}}{432} + \\frac{19}{48}}}{2}\\right), - \\frac{1}{2} - \\frac{\\sqrt[3]{\\frac{\\sqrt{28985}}{432} + \\frac{19}{48}}}{2} - \\frac{1}{18 \\sqrt[3]{\\frac{\\sqrt{28985}}{432} + \\frac{19}{48}}} + i \\left(- \\frac{\\sqrt{3} \\sqrt[3]{\\frac{\\sqrt{28985}}{432} + \\frac{19}{48}}}{2} + \\frac{\\sqrt{3}}{18 \\sqrt[3]{\\frac{\\sqrt{28985}}{432} + \\frac{19}{48}}}\\right)\\right\\}$"
      ],
      "text/plain": [
       "{0, -1/2 + 1/(9*(sqrt(28985)/432 + 19/48)**(1/3)) + (sqrt(28985)/432 + 19/48)**(1/3), -1/2 - (sqrt(28985)/432 + 19/48)**(1/3)/2 - 1/(18*(sqrt(28985)/432 + 19/48)**(1/3)) + I*(-sqrt(3)/(18*(sqrt(28985)/432 + 19/48)**(1/3)) + sqrt(3)*(sqrt(28985)/432 + 19/48)**(1/3)/2), -1/2 - (sqrt(28985)/432 + 19/48)**(1/3)/2 - 1/(18*(sqrt(28985)/432 + 19/48)**(1/3)) + I*(-sqrt(3)*(sqrt(28985)/432 + 19/48)**(1/3)/2 + sqrt(3)/(18*(sqrt(28985)/432 + 19/48)**(1/3)))}"
      ]
     },
     "execution_count": 1,
     "metadata": {},
     "output_type": "execute_result"
    }
   ],
   "source": [
    "import matplotlib.pyplot as plt\n",
    "import sympy as sp\n",
    "from sympy import diff, symbols, Eq, S, solve, solveset\n",
    "import numpy as np\n",
    "\n",
    "x, y = symbols('x y')\n",
    "\n",
    "solveset(-12*(x**4) - 18*(x**3) - 5*(x**2) + 10*x, x) # определяем корни уравнения\n"
   ]
  },
  {
   "cell_type": "code",
   "execution_count": 2,
   "id": "4fe5670d",
   "metadata": {},
   "outputs": [
    {
     "data": {
      "text/latex": [
       "$\\displaystyle - 48 x^{3} - 54 x^{2} - 10 x + 10$"
      ],
      "text/plain": [
       "-48*x**3 - 54*x**2 - 10*x + 10"
      ]
     },
     "execution_count": 2,
     "metadata": {},
     "output_type": "execute_result"
    }
   ],
   "source": [
    "diff(-12*(x**4) - 18*(x**3) - 5*(x**2) + 10*x, x)"
   ]
  },
  {
   "cell_type": "code",
   "execution_count": 3,
   "id": "ecca7e74",
   "metadata": {},
   "outputs": [
    {
     "data": {
      "text/latex": [
       "$\\displaystyle \\left\\{- \\frac{3}{8} + \\frac{41}{576 \\sqrt[3]{\\frac{\\sqrt{93505}}{3456} + \\frac{139}{1536}}} + \\sqrt[3]{\\frac{\\sqrt{93505}}{3456} + \\frac{139}{1536}}\\right\\}$"
      ],
      "text/plain": [
       "{-3/8 + 41/(576*(sqrt(93505)/3456 + 139/1536)**(1/3)) + (sqrt(93505)/3456 + 139/1536)**(1/3)}"
      ]
     },
     "execution_count": 3,
     "metadata": {},
     "output_type": "execute_result"
    }
   ],
   "source": [
    "solveset(diff(-12*(x**4) - 18*(x**3) - 5*(x**2) + 10*x, x), x, domain=S.Reals)"
   ]
  },
  {
   "cell_type": "code",
   "execution_count": 4,
   "id": "6ec846fe",
   "metadata": {},
   "outputs": [
    {
     "name": "stdout",
     "output_type": "stream",
     "text": [
      "Максимум функции (вершина): {-3/8 + 41/(576*(sqrt(93505)/3456 + 139/1536)**(1/3)) + (sqrt(93505)/3456 + 139/1536)**(1/3)} \n",
      "Функция убывает на промежутках (-oo, {-3/8 + 41/(576*(sqrt(93505)/3456 + 139/1536)**(1/3)) + (sqrt(93505)/3456 + 139/1536)**(1/3)}]\n",
      "Функция возрастает на промежутках [{-3/8 + 41/(576*(sqrt(93505)/3456 + 139/1536)**(1/3)) + (sqrt(93505)/3456 + 139/1536)**(1/3)}, oo)\n"
     ]
    }
   ],
   "source": [
    "print(f'Максимум функции (вершина): {solveset(diff(-12*(x**4) - 18*(x**3) - 5*(x**2) + 10*x, x), x, domain=S.Reals)} ')\n",
    "print(f'Функция убывает на промежутках (-oo, {solveset(diff(-12*(x**4) - 18*(x**3) - 5*(x**2) + 10*x, x), x, domain=S.Reals)}]')\n",
    "print(f'Функция возрастает на промежутках [{solveset(diff(-12*(x**4) - 18*(x**3) - 5*(x**2) + 10*x, x), x, domain=S.Reals)}, oo)')"
   ]
  },
  {
   "cell_type": "code",
   "execution_count": 5,
   "id": "f5c949f4",
   "metadata": {},
   "outputs": [
    {
     "data": {
      "image/png": "[encoded data removed]",
      "text/plain": [
       "<Figure size 640x480 with 1 Axes>"
      ]
     },
     "metadata": {},
     "output_type": "display_data"
    }
   ],
   "source": [
    "# Setting axis at the center\n",
    "fig = plt.figure()\n",
    "ax = fig.add_subplot(1, 1, 1)\n",
    " \n",
    "# Move left y-axis and bottim x-axis to centre, passing through (0,0)\n",
    "ax.spines['left'].set_position('center')\n",
    "ax.spines['bottom'].set_position('zero')\n",
    " \n",
    "# Eliminate upper and right axes\n",
    "ax.spines['right'].set_color('none')\n",
    "ax.spines['top'].set_color('none')\n",
    " \n",
    "# Show ticks in the left and lower axes only\n",
    "ax.xaxis.set_ticks_position('bottom')\n",
    "ax.yaxis.set_ticks_position('left')\n",
    "\n",
    "def fx(x):\n",
    "    return -12*(x**4) - 18*(x**3) - 5*(x**2) + 10*x\n",
    "\n",
    "x = np.linspace(-5, 5, 1000)\n",
    "y = [fx(n) for n in x]\n",
    "\n",
    "plt.ylim(-50, 50)\n",
    "\n",
    "plt.plot(x, y)\n",
    "\n",
    "plt.show()"
   ]
  },
  {
   "cell_type": "code",
   "execution_count": null,
   "id": "a53a7155",
   "metadata": {},
   "outputs": [],
   "source": []
  }
 ],
 "metadata": {
  "kernelspec": {
   "display_name": "Python 3.10.7 64-bit",
   "language": "python",
   "name": "python3"
  },
  "language_info": {
   "codemirror_mode": {
    "name": "ipython",
    "version": 3
   },
   "file_extension": ".py",
   "mimetype": "text/x-python",
   "name": "python",
   "nbconvert_exporter": "python",
   "pygments_lexer": "ipython3",
   "version": "3.10.7"
  },
  "vscode": {
   "interpreter": {
    "hash": "494290a1a46cff9f1bdf135e8006a96bb0ba0892d9aaf79f00f698d986135d67"
   }
  }
 },
 "nbformat": 4,
 "nbformat_minor": 5
}
